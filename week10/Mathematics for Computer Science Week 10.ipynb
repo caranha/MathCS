{
 "cells": [
  {
   "cell_type": "markdown",
   "metadata": {},
   "source": [
    "# Dice Simulation - Probability and Expected Value"
   ]
  },
  {
   "cell_type": "code",
   "execution_count": 1,
   "metadata": {},
   "outputs": [],
   "source": [
    "from random import randint\n",
    "\n",
    "def dice(n):\n",
    "    return [randint(1,6) for i in range(n)]"
   ]
  },
  {
   "cell_type": "code",
   "execution_count": 6,
   "metadata": {},
   "outputs": [
    {
     "data": {
      "text/plain": [
       "[5, 3, 5, 4, 4, 3]"
      ]
     },
     "execution_count": 6,
     "metadata": {},
     "output_type": "execute_result"
    }
   ],
   "source": [
    "dice(6)"
   ]
  },
  {
   "cell_type": "markdown",
   "metadata": {},
   "source": [
    "## Count 6 in dice rolls"
   ]
  },
  {
   "cell_type": "code",
   "execution_count": 7,
   "metadata": {},
   "outputs": [
    {
     "name": "stdout",
     "output_type": "stream",
     "text": [
      "[1, 2, 5, 5, 1, 6, 3, 4, 2, 5, 6, 5] 2\n",
      "[4, 1, 2, 4, 4, 4, 1, 4, 3, 2, 2, 4] 0\n",
      "[6, 3, 2, 2, 6, 6, 4, 2, 1, 4, 5, 6] 4\n",
      "[6, 5, 5, 5, 2, 6, 3, 2, 6, 1, 2, 2] 3\n",
      "[3, 6, 3, 1, 5, 1, 2, 1, 6, 6, 4, 1] 3\n"
     ]
    }
   ],
   "source": [
    "for i in range(5):\n",
    "    x = dice(12)\n",
    "    print(x, x.count(6))"
   ]
  },
  {
   "cell_type": "markdown",
   "metadata": {},
   "source": [
    "## Number of simulations where 6 is 1/6 of the rolls (+- 10%)"
   ]
  },
  {
   "cell_type": "code",
   "execution_count": 4,
   "metadata": {},
   "outputs": [],
   "source": [
    "def simulate(n,v,rep=1000):\n",
    "    sims = [dice(n).count(6) for i in range(rep)]\n",
    "    min_tresh, max_tresh = n/6*(1-v), n/6*(1+v)\n",
    "    \n",
    "    y = [i >= min_tresh and i <= max_tresh for i in sims]\n",
    "    count = sum(y)\n",
    "    \n",
    "    return min_tresh, max_tresh, count, count/rep"
   ]
  },
  {
   "cell_type": "code",
   "execution_count": 10,
   "metadata": {},
   "outputs": [
    {
     "data": {
      "text/plain": [
       "(950.0, 1050.0, 905, 0.905)"
      ]
     },
     "execution_count": 10,
     "metadata": {},
     "output_type": "execute_result"
    }
   ],
   "source": [
    "simulate(6000,0.05)"
   ]
  },
  {
   "cell_type": "code",
   "execution_count": null,
   "metadata": {},
   "outputs": [],
   "source": []
  }
 ],
 "metadata": {
  "kernelspec": {
   "display_name": "Python 3",
   "language": "python",
   "name": "python3"
  },
  "language_info": {
   "codemirror_mode": {
    "name": "ipython",
    "version": 3
   },
   "file_extension": ".py",
   "mimetype": "text/x-python",
   "name": "python",
   "nbconvert_exporter": "python",
   "pygments_lexer": "ipython3",
   "version": "3.5.2"
  }
 },
 "nbformat": 4,
 "nbformat_minor": 2
}
