{
 "cells": [
  {
   "cell_type": "markdown",
   "metadata": {},
   "source": [
    "# Dice Simulation - Probability and Expected Value"
   ]
  },
  {
   "cell_type": "code",
   "execution_count": 1,
   "metadata": {},
   "outputs": [],
   "source": [
    "from random import randint\n",
    "\n",
    "def dice(n):\n",
    "    return [randint(1,6) for i in range(n)]"
   ]
  },
  {
   "cell_type": "code",
   "execution_count": 2,
   "metadata": {},
   "outputs": [
    {
     "data": {
      "text/plain": [
       "[1, 5, 5, 3, 3, 4]"
      ]
     },
     "execution_count": 2,
     "metadata": {},
     "output_type": "execute_result"
    }
   ],
   "source": [
    "dice(6)"
   ]
  },
  {
   "cell_type": "markdown",
   "metadata": {},
   "source": [
    "## Count 6 in dice rolls"
   ]
  },
  {
   "cell_type": "code",
   "execution_count": 61,
   "metadata": {},
   "outputs": [
    {
     "name": "stdout",
     "output_type": "stream",
     "text": [
      "[6, 5, 4, 5, 5, 6, 5, 4, 1, 2, 2, 2] 2\n",
      "[5, 4, 6, 6, 6, 4, 5, 3, 5, 5, 5, 3] 3\n",
      "[6, 1, 6, 2, 1, 3, 5, 5, 2, 4, 1, 1] 2\n",
      "[6, 6, 5, 5, 4, 3, 4, 5, 5, 2, 4, 1] 2\n",
      "[5, 1, 3, 1, 5, 4, 6, 2, 4, 6, 5, 5] 2\n"
     ]
    }
   ],
   "source": [
    "for i in range(5):\n",
    "    x = dice(12)\n",
    "    print(x, x.count(6))"
   ]
  },
  {
   "cell_type": "markdown",
   "metadata": {},
   "source": [
    "## Number of simulations where 6 is 1/6 of the rolls (+- 10%)"
   ]
  },
  {
   "cell_type": "code",
   "execution_count": 75,
   "metadata": {},
   "outputs": [],
   "source": [
    "def simulate(n,v,rep=1000):\n",
    "    sims = [dice(n).count(6) for i in range(rep)]\n",
    "    min_tresh, max_tresh = n/6*(1-v), n/6*(1+v)\n",
    "    \n",
    "    y = [i >= min_tresh and i <= max_tresh for i in sims]\n",
    "    count = sum(y)\n",
    "    \n",
    "    return min_tresh, max_tresh, count, count/rep"
   ]
  },
  {
   "cell_type": "code",
   "execution_count": 76,
   "metadata": {},
   "outputs": [
    {
     "data": {
      "text/plain": [
       "(450.0, 550.0, 987, 0.987)"
      ]
     },
     "execution_count": 76,
     "metadata": {},
     "output_type": "execute_result"
    }
   ],
   "source": [
    "simulate(3000,0.1)"
   ]
  }
 ],
 "metadata": {
  "kernelspec": {
   "display_name": "Python 3",
   "language": "python",
   "name": "python3"
  },
  "language_info": {
   "codemirror_mode": {
    "name": "ipython",
    "version": 3
   },
   "file_extension": ".py",
   "mimetype": "text/x-python",
   "name": "python",
   "nbconvert_exporter": "python",
   "pygments_lexer": "ipython3",
   "version": "3.5.2"
  }
 },
 "nbformat": 4,
 "nbformat_minor": 2
}
